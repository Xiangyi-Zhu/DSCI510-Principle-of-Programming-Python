{
 "cells": [
  {
   "cell_type": "markdown",
   "id": "f8c48bb4",
   "metadata": {},
   "source": [
    "# Variable Scope"
   ]
  },
  {
   "cell_type": "markdown",
   "id": "280e7b4c",
   "metadata": {},
   "source": [
    "## Parameter and assignee variables inside functions are __local__:\n",
    "\n",
    "In the example below, inside the function _deduct_, _points_ is a <u>parameter</u> variable.<br>\n",
    "Also inside the function _deduct_, _deduction_ is an <u>assignee</u> variable, because it is being assigned a value (here 1)."
   ]
  },
  {
   "cell_type": "code",
   "execution_count": 3,
   "id": "83e2b114",
   "metadata": {},
   "outputs": [
    {
     "name": "stdout",
     "output_type": "stream",
     "text": [
      "Inside: points: 9, deduction: 1\n",
      "Outside: points: 100 deduction: 5 result: 9\n"
     ]
    }
   ],
   "source": [
    "points = 100\n",
    "deduction = 5\n",
    "\n",
    "def deduct(points):\n",
    "    deduction = 1\n",
    "    points = points - deduction\n",
    "    print(f'Inside: points: {points}, deduction: {deduction}')\n",
    "    return points\n",
    "\n",
    "result = deduct(10)\n",
    "print('Outside: points:', points, 'deduction:', deduction, 'result:', result)"
   ]
  },
  {
   "cell_type": "markdown",
   "id": "1b721fe4",
   "metadata": {},
   "source": [
    "Variables ___points___ and ___deduction___ inside the function _deduct_ are __different__ from those outside."
   ]
  },
  {
   "cell_type": "markdown",
   "id": "fc1784d9",
   "metadata": {},
   "source": [
    "### Outer (e.g., global) variables can be read inside an inner scope (e.g., function)"
   ]
  },
  {
   "cell_type": "code",
   "execution_count": 4,
   "id": "c2c8e9b1",
   "metadata": {},
   "outputs": [
    {
     "name": "stdout",
     "output_type": "stream",
     "text": [
      "hello 510 510.0 True (1, 2) [3, 4] {5, 6} {7: 8}\n",
      "Inside: hello 510 510.0 1020.0 True (1, 2) [3, 4] {5, 6} {7: 8}\n",
      "hello 510 510.0 True (1, 2) [3, 4] {5, 6} {7: 8}\n"
     ]
    }
   ],
   "source": [
    "string = \"hello\"\n",
    "number1 = 510\n",
    "number2 = 510.0\n",
    "truth = True\n",
    "a_tuple = (1, 2)\n",
    "a_list = [3, 4]\n",
    "a_set = {5, 6}\n",
    "a_dict = {7: 8}\n",
    "print(string, number1, number2, truth, a_tuple, a_list, a_set, a_dict)\n",
    "\n",
    "def re_print():\n",
    "    number3 = number1 + number2\n",
    "    print('Inside:', string, number1, number2, number3, truth, a_tuple, a_list, a_set, a_dict)\n",
    "    \n",
    "re_print()\n",
    "print(string, number1, number2, truth, a_tuple, a_list, a_set, a_dict)"
   ]
  },
  {
   "cell_type": "markdown",
   "id": "965a30cc",
   "metadata": {},
   "source": [
    "###  However, if you use an assignment statement inside a function, Python interprets that as defining a local variable"
   ]
  },
  {
   "cell_type": "code",
   "execution_count": 5,
   "id": "121b30d9",
   "metadata": {},
   "outputs": [
    {
     "name": "stdout",
     "output_type": "stream",
     "text": [
      "hello 510 True (1, 2) [3, 4] {5, 6} {7: 8}\n",
      "Inside: bye 667 False (11, 12) [13, 14] {16, 15} {17: 18}\n",
      "hello 510 True (1, 2) [3, 4] {5, 6} {7: 8}\n"
     ]
    }
   ],
   "source": [
    "string = \"hello\"\n",
    "number = 510\n",
    "truth = True\n",
    "a_tuple = (1, 2)\n",
    "a_list = [3, 4]\n",
    "a_set = {5, 6}\n",
    "a_dict = {7: 8}\n",
    "print(string, number, truth, a_tuple, a_list, a_set, a_dict)\n",
    "\n",
    "def re_assign():\n",
    "    string = \"bye\"\n",
    "    number = 666\n",
    "    number += 1\n",
    "    truth = False\n",
    "    a_tuple = (11, 12)\n",
    "    a_list = [13, 14]\n",
    "    a_set = {15, 16}\n",
    "    a_dict = {17: 18}\n",
    "    print('Inside:', string, number, truth, a_tuple, a_list, a_set, a_dict)\n",
    "    \n",
    "re_assign()\n",
    "print(string, number, truth, a_tuple, a_list, a_set, a_dict)"
   ]
  },
  {
   "cell_type": "markdown",
   "id": "8e38baa2",
   "metadata": {},
   "source": [
    "### If you want to modify a global variable inside a function, you must use the _global_ declaration:\n",
    "\n",
    "In the example below, due to the _global_ declaration, all mentions of _deduction_ refer to the same variable."
   ]
  },
  {
   "cell_type": "code",
   "execution_count": 6,
   "id": "7a3ca96d",
   "metadata": {},
   "outputs": [
    {
     "name": "stdout",
     "output_type": "stream",
     "text": [
      "Inside: points: 9, deduction: 1\n",
      "points: 100 deduction: 1 result: 9\n"
     ]
    }
   ],
   "source": [
    "points = 100\n",
    "deduction = 5\n",
    "\n",
    "# Old code from above without global\n",
    "# def deduct(points):\n",
    "#     deduction = 1\n",
    "#     points = points - deduction\n",
    "#     print(f'Inside: points: {points}, deduction: {deduction}')\n",
    "#     return points\n",
    "\n",
    "def deduct(points):\n",
    "    global deduction\n",
    "    deduction = 1\n",
    "    points = points - deduction\n",
    "    print(f'Inside: points: {points}, deduction: {deduction}')\n",
    "    return points\n",
    "\n",
    "result = deduct(10)\n",
    "print('points:', points, 'deduction:', deduction, 'result:', result)"
   ]
  },
  {
   "cell_type": "markdown",
   "id": "7d935786",
   "metadata": {},
   "source": [
    "In the example above, there is only a single variable _deduction_ for both inside and outside _deduct_."
   ]
  },
  {
   "cell_type": "markdown",
   "id": "f95f6be6",
   "metadata": {},
   "source": [
    "### However,  <u>manipulations</u> <u>inside</u> a complex object (e.g., collections) are reflected in the outer scope, even without the global declaration"
   ]
  },
  {
   "cell_type": "code",
   "execution_count": 7,
   "id": "9de168af",
   "metadata": {},
   "outputs": [
    {
     "name": "stdout",
     "output_type": "stream",
     "text": [
      "[3, 4] {5, 6} {7: 8} [30, 40]\n",
      "[3, 14] {16, 5, 6} {7: 8, 17: 18} [30, 40]\n"
     ]
    }
   ],
   "source": [
    "a_list = [3, 4]\n",
    "a_set = {5, 6}\n",
    "a_dict = {7: 8}\n",
    "b_list = [30, 40]\n",
    "print(a_list, a_set, a_dict, b_list)\n",
    "\n",
    "def manipulate():\n",
    "    a_list[1] = 14\n",
    "    a_set.add(16)\n",
    "    a_dict[17] = 18\n",
    "    b_list = [33,43]  # a new local(!) variable\n",
    "    b_list[1] = 44\n",
    "\n",
    "manipulate()\n",
    "print(a_list, a_set, a_dict, b_list)"
   ]
  },
  {
   "cell_type": "code",
   "execution_count": 8,
   "id": "6342a7a8",
   "metadata": {},
   "outputs": [
    {
     "name": "stdout",
     "output_type": "stream",
     "text": [
      "Cristiano Ronaldo\n",
      "Cris Ronaldo\n"
     ]
    }
   ],
   "source": [
    "class person(object):  \n",
    "    def __init__(self, fname, lname):\n",
    "        self.firstname = fname\n",
    "        self.lastname = lname\n",
    "        \n",
    "    def __str__(self):\n",
    "           return self.firstname + \" \" + self.lastname\n",
    "        \n",
    "CR = person(\"Cristiano\", \"Ronaldo\")\n",
    "\n",
    "print(CR)\n",
    "\n",
    "def manipulate():\n",
    "    CR.firstname = 'Cris'\n",
    "    \n",
    "manipulate()\n",
    "\n",
    "print(CR)"
   ]
  },
  {
   "cell_type": "markdown",
   "id": "63723794",
   "metadata": {},
   "source": [
    "## Takeaway\n",
    " * If a variable could reasonably be a local variable (as a parameter variable or an assignee variable), it __is__ local.\n",
    "     * This is generally desirable, as you don't want to have important information overwritten by something inside a different function.\n",
    "         * If this is not what you want, use the explicit _global_ declaration.\n",
    " * If a variable could __not__ reasonably be a local variable (because it has not been assigned a value either by argument or assignment), it is __not__ local.\n",
    " * Be careful manipulating complex objects inside functions"
   ]
  },
  {
   "cell_type": "code",
   "execution_count": null,
   "id": "c810376b",
   "metadata": {},
   "outputs": [],
   "source": []
  }
 ],
 "metadata": {
  "kernelspec": {
   "display_name": "Python 3 (ipykernel)",
   "language": "python",
   "name": "python3"
  },
  "language_info": {
   "codemirror_mode": {
    "name": "ipython",
    "version": 3
   },
   "file_extension": ".py",
   "mimetype": "text/x-python",
   "name": "python",
   "nbconvert_exporter": "python",
   "pygments_lexer": "ipython3",
   "version": "3.9.7"
  }
 },
 "nbformat": 4,
 "nbformat_minor": 5
}
