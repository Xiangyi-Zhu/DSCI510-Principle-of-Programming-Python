{
 "cells": [
  {
   "cell_type": "markdown",
   "metadata": {},
   "source": [
    "# Object Printing"
   ]
  },
  {
   "cell_type": "code",
   "execution_count": 1,
   "metadata": {},
   "outputs": [],
   "source": [
    "class Person(object):    \n",
    "    def __init__(self, fname, lname):\n",
    "        self.firstname = fname\n",
    "        self.lastname = lname\n",
    "\n",
    "LM = Person(\"Lionel\", \"Messi\")\n",
    "MR = Person(\"Megan\", \"Rapinoe\")"
   ]
  },
  {
   "cell_type": "code",
   "execution_count": 2,
   "metadata": {},
   "outputs": [
    {
     "name": "stdout",
     "output_type": "stream",
     "text": [
      "<__main__.Person object at 0x000002972CCD0BE0>\n"
     ]
    }
   ],
   "source": [
    "print(LM)#0x0000018BB8EE4A30 address in memory for that object"
   ]
  },
  {
   "cell_type": "code",
   "execution_count": 3,
   "metadata": {
    "scrolled": true
   },
   "outputs": [
    {
     "data": {
      "text/plain": [
       "__main__.Person"
      ]
     },
     "execution_count": 3,
     "metadata": {},
     "output_type": "execute_result"
    }
   ],
   "source": [
    "LM.__class__ #__main is module, Person is class name"
   ]
  },
  {
   "cell_type": "code",
   "execution_count": 4,
   "metadata": {},
   "outputs": [
    {
     "data": {
      "text/plain": [
       "'Person'"
      ]
     },
     "execution_count": 4,
     "metadata": {},
     "output_type": "execute_result"
    }
   ],
   "source": [
    "LM.__class__.__name__ \n",
    "#never name any of your variables like double underscore anything unless you really know what you're doing, because that's like a built in"
   ]
  },
  {
   "cell_type": "code",
   "execution_count": 5,
   "metadata": {},
   "outputs": [
    {
     "name": "stdout",
     "output_type": "stream",
     "text": [
      "2848314952672\n",
      "0x2972ccd0be0\n"
     ]
    }
   ],
   "source": [
    "# id: integer guaranteed to be unique and constant for this object\n",
    "# In the CPython reference implementation, this is the address of the object in memory.\n",
    "#so if you know how to address the memory on your computer and you go to that particular location in memory,\n",
    "print(id(LM)) #this is the address in memory for that object when I was to look at it to memory so you can find.\n",
    "print(hex(id(LM))) #the standard Python implementation, which is the C python."
   ]
  },
  {
   "cell_type": "code",
   "execution_count": 6,
   "metadata": {},
   "outputs": [],
   "source": [
    "#so if you know how to address the memory on your computer and you go to that particular location in memory,\n",
    "\n",
    "#you will find your object and they are laid out you with some assembly code, which probably none of you would like to do.\n",
    "\n",
    "#But if you had to, you were hacking the whole thing."
   ]
  },
  {
   "cell_type": "code",
   "execution_count": 7,
   "metadata": {},
   "outputs": [],
   "source": [
    "class Person(object):  \n",
    "    def __init__(self, fname, lname):\n",
    "        self.firstname = fname\n",
    "        self.lastname = lname\n",
    "        \n",
    "    def __str__(self):\n",
    "           return self.firstname + \" \" + self.lastname"
   ]
  },
  {
   "cell_type": "code",
   "execution_count": 8,
   "metadata": {},
   "outputs": [],
   "source": [
    "LM = Person(\"Lionel\", \"Messi\")\n",
    "MR = Person(\"Megan\", \"Rapinoe\")"
   ]
  },
  {
   "cell_type": "code",
   "execution_count": 9,
   "metadata": {},
   "outputs": [
    {
     "name": "stdout",
     "output_type": "stream",
     "text": [
      "Lionel Messi\n",
      "Megan Rapinoe\n"
     ]
    }
   ],
   "source": [
    "print(LM)\n",
    "print(MR)"
   ]
  },
  {
   "cell_type": "code",
   "execution_count": 10,
   "metadata": {},
   "outputs": [
    {
     "data": {
      "text/plain": [
       "<__main__.Person at 0x2972ccf5a90>"
      ]
     },
     "execution_count": 10,
     "metadata": {},
     "output_type": "execute_result"
    }
   ],
   "source": [
    "LM"
   ]
  },
  {
   "cell_type": "code",
   "execution_count": 11,
   "metadata": {},
   "outputs": [],
   "source": [
    "class Person(object):    \n",
    "    def __init__(self, fname, lname):\n",
    "        self.firstname = fname\n",
    "        self.lastname = lname\n",
    "        \n",
    "    def __repr__(self):\n",
    "        return f\"{self.__class__.__name__}('{self.firstname}','{self.lastname}')\"\n",
    "# this function just return a string is one of these type of strings called formatted strings so we can use this kind of."
   ]
  },
  {
   "cell_type": "code",
   "execution_count": 12,
   "metadata": {},
   "outputs": [],
   "source": [
    "LM = Person(\"Lionel\", \"Messi\") #same as LM2 = eval(\"Person('Lionel','Messi')\")\n",
    "MR = Person(\"Megan\", \"Rapinoe\")"
   ]
  },
  {
   "cell_type": "code",
   "execution_count": 13,
   "metadata": {},
   "outputs": [
    {
     "name": "stdout",
     "output_type": "stream",
     "text": [
      "Person('Lionel','Messi')\n"
     ]
    }
   ],
   "source": [
    "print(LM)"
   ]
  },
  {
   "cell_type": "code",
   "execution_count": 14,
   "metadata": {
    "scrolled": true
   },
   "outputs": [
    {
     "data": {
      "text/plain": [
       "Person('Lionel','Messi')"
      ]
     },
     "execution_count": 14,
     "metadata": {},
     "output_type": "execute_result"
    }
   ],
   "source": [
    "LM"
   ]
  },
  {
   "cell_type": "code",
   "execution_count": null,
   "metadata": {},
   "outputs": [],
   "source": [
    "LM2 = eval(\"Person('Lionel','Messi')\")\n",
    "LM2.lastname"
   ]
  },
  {
   "cell_type": "code",
   "execution_count": 15,
   "metadata": {},
   "outputs": [],
   "source": [
    "class Group(object):    \n",
    "    def __init__(self, name):\n",
    "        self.groupname = name\n",
    "        self.members = list()\n",
    "        \n",
    "    def __str__(self):\n",
    "        return_string = self.groupname + ':\\n'\n",
    "        for member in self.members:\n",
    "            return_string = return_string + '- ' + member.__str__() + '\\n'\n",
    "        return return_string\n",
    "    \n",
    "    def __repr__(self):\n",
    "        return 'You are a group object'\n",
    "    \n",
    "    def add_member(self, member):\n",
    "        self.members.append(member)\n",
    "    \n",
    "    def __len__(self): #and __len__ is another special variable\n",
    "        #This underscore underscore is like anytime you invoke Len on some of your time, he will use this implementation.\n",
    "        #In this case, he just. Giving you the length of the list of the members of the member list.\n",
    "        return len(self.members)\n",
    "    #return len(self.groupname)"
   ]
  },
  {
   "cell_type": "code",
   "execution_count": 16,
   "metadata": {},
   "outputs": [],
   "source": [
    "footballers = Group(\"Footballers\")"
   ]
  },
  {
   "cell_type": "code",
   "execution_count": 17,
   "metadata": {},
   "outputs": [
    {
     "name": "stdout",
     "output_type": "stream",
     "text": [
      "[]\n"
     ]
    }
   ],
   "source": [
    "print(footballers.members)"
   ]
  },
  {
   "cell_type": "code",
   "execution_count": 18,
   "metadata": {},
   "outputs": [],
   "source": [
    "footballers.add_member(LM)\n",
    "footballers.add_member(MR)"
   ]
  },
  {
   "cell_type": "code",
   "execution_count": 19,
   "metadata": {
    "scrolled": true
   },
   "outputs": [
    {
     "name": "stdout",
     "output_type": "stream",
     "text": [
      "Footballers:\n",
      "- Person('Lionel','Messi')\n",
      "- Person('Megan','Rapinoe')\n",
      "\n"
     ]
    }
   ],
   "source": [
    "print(footballers)"
   ]
  },
  {
   "cell_type": "code",
   "execution_count": 20,
   "metadata": {},
   "outputs": [
    {
     "data": {
      "text/plain": [
       "You are a group object"
      ]
     },
     "execution_count": 20,
     "metadata": {},
     "output_type": "execute_result"
    }
   ],
   "source": [
    "footballers"
   ]
  },
  {
   "cell_type": "code",
   "execution_count": 21,
   "metadata": {},
   "outputs": [
    {
     "data": {
      "text/plain": [
       "2"
      ]
     },
     "execution_count": 21,
     "metadata": {},
     "output_type": "execute_result"
    }
   ],
   "source": [
    "len(footballers)"
   ]
  },
  {
   "cell_type": "code",
   "execution_count": 22,
   "metadata": {},
   "outputs": [
    {
     "data": {
      "text/plain": [
       "Person('Lionel','Messi')"
      ]
     },
     "execution_count": 22,
     "metadata": {},
     "output_type": "execute_result"
    }
   ],
   "source": [
    "footballers.members[0]"
   ]
  },
  {
   "cell_type": "code",
   "execution_count": 23,
   "metadata": {},
   "outputs": [
    {
     "data": {
      "text/plain": [
       "Person('Megan','Rapinoe')"
      ]
     },
     "execution_count": 23,
     "metadata": {},
     "output_type": "execute_result"
    }
   ],
   "source": [
    "footballers.members[1]"
   ]
  },
  {
   "cell_type": "code",
   "execution_count": 24,
   "metadata": {},
   "outputs": [
    {
     "data": {
      "text/plain": [
       "Person('Megan','Rapinoe')"
      ]
     },
     "execution_count": 24,
     "metadata": {},
     "output_type": "execute_result"
    }
   ],
   "source": [
    "MR"
   ]
  },
  {
   "cell_type": "code",
   "execution_count": null,
   "metadata": {},
   "outputs": [],
   "source": []
  }
 ],
 "metadata": {
  "kernelspec": {
   "display_name": "Python 3 (ipykernel)",
   "language": "python",
   "name": "python3"
  },
  "language_info": {
   "codemirror_mode": {
    "name": "ipython",
    "version": 3
   },
   "file_extension": ".py",
   "mimetype": "text/x-python",
   "name": "python",
   "nbconvert_exporter": "python",
   "pygments_lexer": "ipython3",
   "version": "3.9.7"
  }
 },
 "nbformat": 4,
 "nbformat_minor": 1
}
