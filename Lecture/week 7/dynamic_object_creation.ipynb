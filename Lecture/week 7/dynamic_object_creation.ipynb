{
 "cells": [
  {
   "cell_type": "markdown",
   "metadata": {},
   "source": [
    "# Dynamic Object Creation\n",
    "\n",
    "When you call the constructor of a class, it allocates the object in memory. However, you have to do something with the object, e.g., assign it to a variable. Otherwise the reference to the object will be lost. \n",
    "\n",
    "You can reassign a variable that holds an object, but you need to keep the reference somewhere (e.g., by appending hte object to a list). Otherwise, it would be lost."
   ]
  },
  {
   "cell_type": "code",
   "execution_count": 1,
   "metadata": {},
   "outputs": [],
   "source": [
    "class my_class(object):\n",
    "    def __init__(self, index):\n",
    "        self.index = index\n",
    "        print('Created object of type', self.__class__.__name__, 'at address',\\\n",
    "              hex(id(self)), 'and setting index to', self.index)    "
   ]
  },
  {
   "cell_type": "code",
   "execution_count": 2,
   "metadata": {},
   "outputs": [
    {
     "name": "stdout",
     "output_type": "stream",
     "text": [
      "Created object of type my_class at address 0x1936ad605e0 and setting index to 0\n",
      "Created object of type my_class at address 0x1936ad851c0 and setting index to 1\n",
      "Created object of type my_class at address 0x1936ad85430 and setting index to 2\n"
     ]
    }
   ],
   "source": [
    "my_list = list()  # A list to store the objects I will create\n",
    "\n",
    "for index in range(3):\n",
    "    # This creates a new object of my_class() each time its called\n",
    "    new_object = my_class(index)\n",
    "    my_list.append(new_object)"
   ]
  },
  {
   "cell_type": "code",
   "execution_count": 3,
   "metadata": {},
   "outputs": [
    {
     "name": "stdout",
     "output_type": "stream",
     "text": [
      "[<__main__.my_class object at 0x000001936AD605E0>, <__main__.my_class object at 0x000001936AD851C0>, <__main__.my_class object at 0x000001936AD85430>]\n"
     ]
    }
   ],
   "source": [
    "print(my_list)"
   ]
  },
  {
   "cell_type": "code",
   "execution_count": 4,
   "metadata": {},
   "outputs": [
    {
     "data": {
      "text/plain": [
       "False"
      ]
     },
     "execution_count": 4,
     "metadata": {},
     "output_type": "execute_result"
    }
   ],
   "source": [
    "# Proof that we did, in fact, create DISTINCT objects: Compare the first two.\n",
    "my_list[0] is my_list[1]"
   ]
  },
  {
   "cell_type": "code",
   "execution_count": 5,
   "metadata": {},
   "outputs": [
    {
     "name": "stdout",
     "output_type": "stream",
     "text": [
      "0x1936ad605e0\n",
      "0x1936ad851c0\n",
      "0x1936ad85430\n"
     ]
    }
   ],
   "source": [
    "# Further proof we didn't just create the same thing over and over.  \n",
    "# This returns the hex address of the objects in memory\n",
    "print(hex(id(my_list[0])))\n",
    "print(hex(id(my_list[1])))\n",
    "print(hex(id(my_list[2])))"
   ]
  },
  {
   "cell_type": "markdown",
   "metadata": {},
   "source": [
    "### As we'd expect, the \"new_object\" variable points to the **last** created my_class instance:"
   ]
  },
  {
   "cell_type": "code",
   "execution_count": 6,
   "metadata": {},
   "outputs": [
    {
     "name": "stdout",
     "output_type": "stream",
     "text": [
      "0x1936ad85430\n"
     ]
    }
   ],
   "source": [
    "print(hex(id(new_object)))"
   ]
  },
  {
   "cell_type": "code",
   "execution_count": 7,
   "metadata": {},
   "outputs": [
    {
     "data": {
      "text/plain": [
       "True"
      ]
     },
     "execution_count": 7,
     "metadata": {},
     "output_type": "execute_result"
    }
   ],
   "source": [
    "new_object is my_list[2]"
   ]
  },
  {
   "cell_type": "code",
   "execution_count": null,
   "metadata": {},
   "outputs": [],
   "source": []
  }
 ],
 "metadata": {
  "kernelspec": {
   "display_name": "Python 3 (ipykernel)",
   "language": "python",
   "name": "python3"
  },
  "language_info": {
   "codemirror_mode": {
    "name": "ipython",
    "version": 3
   },
   "file_extension": ".py",
   "mimetype": "text/x-python",
   "name": "python",
   "nbconvert_exporter": "python",
   "pygments_lexer": "ipython3",
   "version": "3.9.7"
  }
 },
 "nbformat": 4,
 "nbformat_minor": 2
}
