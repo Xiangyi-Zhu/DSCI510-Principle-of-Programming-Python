{
 "cells": [
  {
   "cell_type": "markdown",
   "metadata": {},
   "source": [
    "# Dictionary"
   ]
  },
  {
   "cell_type": "code",
   "execution_count": 1,
   "metadata": {},
   "outputs": [],
   "source": [
    "ages = {'Bob' : 27, 'Alice' : 28, 'Bill' : 17}"
   ]
  },
  {
   "cell_type": "code",
   "execution_count": 2,
   "metadata": {},
   "outputs": [
    {
     "name": "stdout",
     "output_type": "stream",
     "text": [
      "{'Bob': 27, 'Alice': 28, 'Bill': 17}\n"
     ]
    }
   ],
   "source": [
    "print(ages)  # Do NOT rely on ordering"
   ]
  },
  {
   "cell_type": "code",
   "execution_count": 3,
   "metadata": {},
   "outputs": [
    {
     "ename": "KeyError",
     "evalue": "'Sarah'",
     "output_type": "error",
     "traceback": [
      "\u001b[0;31m---------------------------------------------------------------------------\u001b[0m",
      "\u001b[0;31mKeyError\u001b[0m                                  Traceback (most recent call last)",
      "\u001b[0;32m/var/folders/7y/ysjj93z5227208lbzyddcjfw0000gn/T/ipykernel_1538/277381494.py\u001b[0m in \u001b[0;36m<module>\u001b[0;34m\u001b[0m\n\u001b[0;32m----> 1\u001b[0;31m \u001b[0mages\u001b[0m\u001b[0;34m[\u001b[0m\u001b[0;34m'Sarah'\u001b[0m\u001b[0;34m]\u001b[0m\u001b[0;34m\u001b[0m\u001b[0;34m\u001b[0m\u001b[0m\n\u001b[0m",
      "\u001b[0;31mKeyError\u001b[0m: 'Sarah'"
     ]
    }
   ],
   "source": [
    "ages['Sarah']"
   ]
  },
  {
   "cell_type": "code",
   "execution_count": 4,
   "metadata": {},
   "outputs": [],
   "source": [
    "ages['Sarah'] = 18"
   ]
  },
  {
   "cell_type": "code",
   "execution_count": 5,
   "metadata": {},
   "outputs": [
    {
     "name": "stdout",
     "output_type": "stream",
     "text": [
      "{'Bob': 27, 'Alice': 28, 'Bill': 17, 'Sarah': 18}\n"
     ]
    }
   ],
   "source": [
    "print(ages)"
   ]
  },
  {
   "cell_type": "code",
   "execution_count": 6,
   "metadata": {},
   "outputs": [],
   "source": [
    "ages['Bob'] = ages['Sarah'] + 4"
   ]
  },
  {
   "cell_type": "code",
   "execution_count": 7,
   "metadata": {},
   "outputs": [
    {
     "name": "stdout",
     "output_type": "stream",
     "text": [
      "{'Bob': 22, 'Alice': 28, 'Bill': 17, 'Sarah': 18}\n"
     ]
    }
   ],
   "source": [
    "print(ages)"
   ]
  },
  {
   "cell_type": "code",
   "execution_count": 8,
   "metadata": {},
   "outputs": [],
   "source": [
    "ages.get('Mohammed')"
   ]
  },
  {
   "cell_type": "code",
   "execution_count": 9,
   "metadata": {},
   "outputs": [
    {
     "name": "stdout",
     "output_type": "stream",
     "text": [
      "None\n"
     ]
    }
   ],
   "source": [
    "print(ages.get('Mohammed'))"
   ]
  },
  {
   "cell_type": "code",
   "execution_count": 10,
   "metadata": {},
   "outputs": [
    {
     "name": "stdout",
     "output_type": "stream",
     "text": [
      "{'Bob': 22, 'Alice': 28, 'Bill': 17, 'Sarah': 18}\n"
     ]
    }
   ],
   "source": [
    "print(ages)"
   ]
  },
  {
   "cell_type": "code",
   "execution_count": 11,
   "metadata": {},
   "outputs": [],
   "source": [
    "ages['Mohammed'] = 22"
   ]
  },
  {
   "cell_type": "code",
   "execution_count": 12,
   "metadata": {},
   "outputs": [
    {
     "name": "stdout",
     "output_type": "stream",
     "text": [
      "{'Bob': 22, 'Alice': 28, 'Bill': 17, 'Sarah': 18, 'Mohammed': 22}\n"
     ]
    }
   ],
   "source": [
    "print(ages)"
   ]
  },
  {
   "cell_type": "code",
   "execution_count": 13,
   "metadata": {},
   "outputs": [],
   "source": [
    "ages.update({'Joe': 30}) # Add a new key, value pair to the dictionary"
   ]
  },
  {
   "cell_type": "code",
   "execution_count": 14,
   "metadata": {},
   "outputs": [
    {
     "name": "stdout",
     "output_type": "stream",
     "text": [
      "{'Bob': 22, 'Alice': 28, 'Bill': 17, 'Sarah': 18, 'Mohammed': 22, 'Joe': 30}\n"
     ]
    }
   ],
   "source": [
    "print(ages)"
   ]
  },
  {
   "cell_type": "code",
   "execution_count": 15,
   "metadata": {},
   "outputs": [
    {
     "name": "stdout",
     "output_type": "stream",
     "text": [
      "{'Bob': 22, 'Alice': 28, 'Bill': 17, 'Sarah': 22, 'Mohammed': 22, 'Joe': 35}\n"
     ]
    }
   ],
   "source": [
    "ages.update({'Joe': 35}) # Update an existing key with a new value \n",
    "\n",
    "ages['Sarah'] = 22 # Or simply use assignment to update an existing key with a new value \n",
    "\n",
    "print(ages)"
   ]
  },
  {
   "cell_type": "code",
   "execution_count": 16,
   "metadata": {},
   "outputs": [
    {
     "data": {
      "text/plain": [
       "17"
      ]
     },
     "execution_count": 16,
     "metadata": {},
     "output_type": "execute_result"
    }
   ],
   "source": [
    "ages.pop('Bill')"
   ]
  },
  {
   "cell_type": "code",
   "execution_count": 17,
   "metadata": {},
   "outputs": [
    {
     "name": "stdout",
     "output_type": "stream",
     "text": [
      "{'Bob': 22, 'Alice': 28, 'Sarah': 22, 'Mohammed': 22, 'Joe': 35}\n"
     ]
    }
   ],
   "source": [
    "print(ages)"
   ]
  },
  {
   "cell_type": "code",
   "execution_count": 18,
   "metadata": {
    "scrolled": true
   },
   "outputs": [
    {
     "ename": "TypeError",
     "evalue": "pop expected at least 1 argument, got 0",
     "output_type": "error",
     "traceback": [
      "\u001b[0;31m---------------------------------------------------------------------------\u001b[0m",
      "\u001b[0;31mTypeError\u001b[0m                                 Traceback (most recent call last)",
      "\u001b[0;32m/var/folders/7y/ysjj93z5227208lbzyddcjfw0000gn/T/ipykernel_1538/743941688.py\u001b[0m in \u001b[0;36m<module>\u001b[0;34m\u001b[0m\n\u001b[0;32m----> 1\u001b[0;31m \u001b[0mages\u001b[0m\u001b[0;34m.\u001b[0m\u001b[0mpop\u001b[0m\u001b[0;34m(\u001b[0m\u001b[0;34m)\u001b[0m\u001b[0;34m\u001b[0m\u001b[0;34m\u001b[0m\u001b[0m\n\u001b[0m",
      "\u001b[0;31mTypeError\u001b[0m: pop expected at least 1 argument, got 0"
     ]
    }
   ],
   "source": [
    "ages.pop()"
   ]
  },
  {
   "cell_type": "markdown",
   "metadata": {},
   "source": [
    "### Dictionary keys are unique"
   ]
  },
  {
   "cell_type": "code",
   "execution_count": 19,
   "metadata": {},
   "outputs": [],
   "source": [
    "ages = {'Bob' : 27, 'Alice' : 28, 'Bob': 28, 'Bill' : 17}"
   ]
  },
  {
   "cell_type": "code",
   "execution_count": 20,
   "metadata": {},
   "outputs": [
    {
     "name": "stdout",
     "output_type": "stream",
     "text": [
      "{'Bob': 28, 'Alice': 28, 'Bill': 17}\n"
     ]
    }
   ],
   "source": [
    "print(ages)"
   ]
  },
  {
   "cell_type": "markdown",
   "metadata": {},
   "source": [
    "### Both the keys and values of the dictionary are evaluated when it's defined"
   ]
  },
  {
   "cell_type": "code",
   "execution_count": 21,
   "metadata": {},
   "outputs": [
    {
     "name": "stdout",
     "output_type": "stream",
     "text": [
      "{'xxx': 1, 'yyy': 2}\n"
     ]
    }
   ],
   "source": [
    "a = 'xxx'\n",
    "b = 'yyy'\n",
    "dict1 = {a: 1, b: 2}\n",
    "print (dict1)"
   ]
  },
  {
   "cell_type": "code",
   "execution_count": 22,
   "metadata": {},
   "outputs": [
    {
     "name": "stdout",
     "output_type": "stream",
     "text": [
      "Enter a line of text:\n",
      "Both the keys and values of the dictionary are evaluated when it's defined\n",
      "Words: ['Both', 'the', 'keys', 'and', 'values', 'of', 'the', 'dictionary', 'are', 'evaluated', 'when', \"it's\", 'defined']\n",
      "Counting...\n",
      "Counts {'Both': 1, 'the': 2, 'keys': 1, 'and': 1, 'values': 1, 'of': 1, 'dictionary': 1, 'are': 1, 'evaluated': 1, 'when': 1, \"it's\": 1, 'defined': 1}\n"
     ]
    }
   ],
   "source": [
    "counts = dict()\n",
    "line = input('Enter a line of text:\\n')\n",
    "words = line.split()\n",
    "print('Words:', words)\n",
    "print('Counting...')\n",
    "for word in words:\n",
    "    counts[word] = counts.get(word,0) + 1\n",
    "print('Counts', counts)"
   ]
  },
  {
   "cell_type": "markdown",
   "metadata": {},
   "source": [
    "### We can go through a dictionary with a definite loop"
   ]
  },
  {
   "cell_type": "code",
   "execution_count": 23,
   "metadata": {},
   "outputs": [
    {
     "name": "stdout",
     "output_type": "stream",
     "text": [
      "Both 1\n",
      "the 2\n",
      "keys 1\n",
      "and 1\n",
      "values 1\n",
      "of 1\n",
      "dictionary 1\n",
      "are 1\n",
      "evaluated 1\n",
      "when 1\n",
      "it's 1\n",
      "defined 1\n"
     ]
    }
   ],
   "source": [
    "for key in counts:\n",
    "    print(key, counts[key])"
   ]
  },
  {
   "cell_type": "code",
   "execution_count": 24,
   "metadata": {},
   "outputs": [
    {
     "name": "stdout",
     "output_type": "stream",
     "text": [
      "dict_keys(['Both', 'the', 'keys', 'and', 'values', 'of', 'dictionary', 'are', 'evaluated', 'when', \"it's\", 'defined'])\n"
     ]
    }
   ],
   "source": [
    "print(counts.keys())"
   ]
  },
  {
   "cell_type": "code",
   "execution_count": 25,
   "metadata": {},
   "outputs": [
    {
     "name": "stdout",
     "output_type": "stream",
     "text": [
      "['Both', 'the', 'keys', 'and', 'values', 'of', 'dictionary', 'are', 'evaluated', 'when', \"it's\", 'defined']\n"
     ]
    }
   ],
   "source": [
    "print(list(counts.keys()))"
   ]
  },
  {
   "cell_type": "markdown",
   "metadata": {},
   "source": [
    "### Note how the 'list' function turns that into an actual list structure. However, Python allows us to iterate on the result of 'counts.keys()' as if it were the same."
   ]
  },
  {
   "cell_type": "code",
   "execution_count": 26,
   "metadata": {
    "scrolled": true
   },
   "outputs": [
    {
     "name": "stdout",
     "output_type": "stream",
     "text": [
      "[1, 2, 1, 1, 1, 1, 1, 1, 1, 1, 1, 1]\n"
     ]
    }
   ],
   "source": [
    "print(list(counts.values()))"
   ]
  },
  {
   "cell_type": "code",
   "execution_count": 27,
   "metadata": {
    "scrolled": true
   },
   "outputs": [
    {
     "name": "stdout",
     "output_type": "stream",
     "text": [
      "[('Both', 1), ('the', 2), ('keys', 1), ('and', 1), ('values', 1), ('of', 1), ('dictionary', 1), ('are', 1), ('evaluated', 1), ('when', 1), (\"it's\", 1), ('defined', 1)]\n"
     ]
    }
   ],
   "source": [
    "print(list(counts.items()))"
   ]
  },
  {
   "cell_type": "code",
   "execution_count": 28,
   "metadata": {},
   "outputs": [
    {
     "data": {
      "text/plain": [
       "{'Both': 1,\n",
       " 'the': 2,\n",
       " 'keys': 1,\n",
       " 'and': 1,\n",
       " 'values': 1,\n",
       " 'of': 1,\n",
       " 'dictionary': 1,\n",
       " 'are': 1,\n",
       " 'evaluated': 1,\n",
       " 'when': 1,\n",
       " \"it's\": 1,\n",
       " 'defined': 1}"
      ]
     },
     "execution_count": 28,
     "metadata": {},
     "output_type": "execute_result"
    }
   ],
   "source": [
    "counts"
   ]
  },
  {
   "cell_type": "markdown",
   "metadata": {},
   "source": [
    "### NOTICE THIS IS NOT THE SAME AS THE VALUE OF 'COUNTS'!"
   ]
  },
  {
   "cell_type": "code",
   "execution_count": 29,
   "metadata": {},
   "outputs": [
    {
     "name": "stdout",
     "output_type": "stream",
     "text": [
      "{'Both': 1, 'the': 2, 'keys': 1, 'and': 1, 'values': 1, 'of': 1, 'dictionary': 1, 'are': 1, 'evaluated': 1, 'when': 1, \"it's\": 1, 'defined': 1}\n"
     ]
    }
   ],
   "source": [
    "print(counts)"
   ]
  },
  {
   "cell_type": "markdown",
   "metadata": {},
   "source": [
    "### Iterating over dictionary items, both keys and values, at the same time"
   ]
  },
  {
   "cell_type": "code",
   "execution_count": 30,
   "metadata": {},
   "outputs": [
    {
     "name": "stdout",
     "output_type": "stream",
     "text": [
      "['Both', 'the', 'keys', 'and', 'values', 'of', 'dictionary', 'are', 'evaluated', 'when', \"it's\", 'defined']\n"
     ]
    }
   ],
   "source": [
    "print(list(counts.keys()))"
   ]
  },
  {
   "cell_type": "code",
   "execution_count": 31,
   "metadata": {},
   "outputs": [
    {
     "name": "stdout",
     "output_type": "stream",
     "text": [
      "Both appears 1 times\n",
      "the appears 2 times\n",
      "keys appears 1 times\n",
      "and appears 1 times\n",
      "values appears 1 times\n",
      "of appears 1 times\n",
      "dictionary appears 1 times\n",
      "are appears 1 times\n",
      "evaluated appears 1 times\n",
      "when appears 1 times\n",
      "it's appears 1 times\n",
      "defined appears 1 times\n"
     ]
    }
   ],
   "source": [
    "for word, count in counts.items():\n",
    "    print(word, 'appears', count, 'times')"
   ]
  },
  {
   "cell_type": "markdown",
   "metadata": {},
   "source": [
    "### And now to find the most frequent word in any text file:\n",
    "\n",
    "### (Try 'romeo.txt', 'clown.txt', 'mbox.txt', 'mbox-short.txt')"
   ]
  },
  {
   "cell_type": "markdown",
   "metadata": {},
   "source": [
    "__Content of file _romeo.txt_:__<br>\n",
    "But soft what light through yonder window breaks<br>\n",
    "It is the east and Juliet is the sun<br>\n",
    "Arise fair sun and kill the envious moon<br>\n",
    "Who is already sick and pale with grief<br>"
   ]
  },
  {
   "cell_type": "markdown",
   "metadata": {},
   "source": [
    "__Content of file _clown.txt_:__<br>\n",
    "the clown ran after the car and the car ran into the tent and the tent fell down on the clown and the car"
   ]
  },
  {
   "cell_type": "code",
   "execution_count": 33,
   "metadata": {},
   "outputs": [
    {
     "name": "stdout",
     "output_type": "stream",
     "text": [
      "Enter file: clown.txt\n",
      "{'the': 7, 'clown': 2, 'ran': 2, 'after': 1, 'car': 3, 'and': 3, 'into': 1, 'tent': 2, 'fell': 1, 'down': 1, 'on': 1}\n",
      "the appears 7 times\n"
     ]
    }
   ],
   "source": [
    "name = input('Enter file: ')\n",
    "handle = open(name)\n",
    "text = handle.read()\n",
    "words = text.split()\n",
    "counts = dict()\n",
    "for word in words:\n",
    "    counts[word] = counts.get(word,0) + 1\n",
    "print(counts)\n",
    "    \n",
    "bigcount = None\n",
    "bigword = None\n",
    "for word,count in counts.items():\n",
    "    if bigcount is None or count > bigcount:\n",
    "        bigword = word\n",
    "        bigcount = count\n",
    "print (bigword, 'appears', bigcount, 'times')"
   ]
  },
  {
   "cell_type": "markdown",
   "metadata": {},
   "source": [
    "---\n",
    "# Sorting Dictionaries"
   ]
  },
  {
   "cell_type": "markdown",
   "metadata": {},
   "source": [
    "Starting with Python 3.7, dictionaries preserve their order of initialization."
   ]
  },
  {
   "cell_type": "code",
   "execution_count": 36,
   "metadata": {},
   "outputs": [
    {
     "name": "stdout",
     "output_type": "stream",
     "text": [
      "car 1\n",
      "drove 2\n",
      "the 4\n",
      "girl 1\n"
     ]
    }
   ],
   "source": [
    "word_counts = {'car': 1, 'drove': 2, \"the\": 4, \"girl\": 1}\n",
    "for word in word_counts:\n",
    "    print(word, word_counts[word])"
   ]
  },
  {
   "cell_type": "markdown",
   "metadata": {},
   "source": [
    "__Sorting by key:__"
   ]
  },
  {
   "cell_type": "code",
   "execution_count": 37,
   "metadata": {},
   "outputs": [
    {
     "name": "stdout",
     "output_type": "stream",
     "text": [
      "car 1\n",
      "drove 2\n",
      "girl 1\n",
      "the 4\n"
     ]
    }
   ],
   "source": [
    "word_counts = {'car': 1, 'drove': 2, \"the\": 4, \"girl\": 1}\n",
    "for word in sorted(word_counts):\n",
    "    print(word, word_counts[word])"
   ]
  },
  {
   "cell_type": "markdown",
   "metadata": {},
   "source": [
    "__Sorting by value:__"
   ]
  },
  {
   "cell_type": "code",
   "execution_count": 38,
   "metadata": {},
   "outputs": [
    {
     "name": "stdout",
     "output_type": "stream",
     "text": [
      "the 4\n",
      "drove 2\n",
      "car 1\n",
      "girl 1\n"
     ]
    }
   ],
   "source": [
    "word_counts = {'car': 1, 'drove': 2, \"the\": 4, \"girl\": 1}\n",
    "for word in sorted(word_counts, key=word_counts.get, reverse=True):\n",
    "    print(word, word_counts[word])"
   ]
  },
  {
   "cell_type": "markdown",
   "metadata": {},
   "source": [
    "__Sorting by value using a lambda function__<br>\n",
    "Using a _function_ as a _sorting key_ adds a lot of flexibility.<br>\n",
    "A _lambda function_ is a small anonymous function, i.e. a function that has only a single expression and no name.\n",
    "\n",
    "In the examples below, we sort over the word_counts.items(), i.e. (key, value) tuples.<br>\n",
    "Therefore, the input _x_ of the lambda function is a (key, value) tuple,<br>\n",
    "so _x[0]_ refers to the key and _x[1]_ refers to the value of the (key, value) tuple."
   ]
  },
  {
   "cell_type": "code",
   "execution_count": 39,
   "metadata": {},
   "outputs": [
    {
     "name": "stdout",
     "output_type": "stream",
     "text": [
      "the 4\n",
      "drove 2\n",
      "car 1\n",
      "girl 1\n"
     ]
    }
   ],
   "source": [
    "word_counts = {'car': 1, 'drove': 2, \"the\": 4, \"girl\": 1}\n",
    "for word, count in sorted(word_counts.items(), key=lambda x: x[1], reverse=True):\n",
    "    print(word, count)"
   ]
  },
  {
   "cell_type": "markdown",
   "metadata": {},
   "source": [
    "__Sorting by length of key:__"
   ]
  },
  {
   "cell_type": "code",
   "execution_count": 40,
   "metadata": {},
   "outputs": [
    {
     "name": "stdout",
     "output_type": "stream",
     "text": [
      "drove 2\n",
      "girl 1\n",
      "car 1\n",
      "the 4\n"
     ]
    }
   ],
   "source": [
    "word_counts = {'car': 1, 'drove': 2, \"the\": 4, \"girl\": 1}\n",
    "for word, count in sorted(word_counts.items(), key=lambda x: len(x[0]), reverse=True):\n",
    "    print(word, count)"
   ]
  },
  {
   "cell_type": "markdown",
   "metadata": {},
   "source": [
    "__Same code, but with lambda function expanded to regular function:__"
   ]
  },
  {
   "cell_type": "code",
   "execution_count": 41,
   "metadata": {},
   "outputs": [
    {
     "name": "stdout",
     "output_type": "stream",
     "text": [
      "drove 2\n",
      "girl 1\n",
      "car 1\n",
      "the 4\n"
     ]
    }
   ],
   "source": [
    "def x0_length(x):     # x is a (key, value) tuple  # lambda x: len(x[0])\n",
    "    return len(x[0])\n",
    "\n",
    "word_counts = {'car': 1, 'drove': 2, \"the\": 4, \"girl\": 1}\n",
    "for word, count in sorted(word_counts.items(), key=x0_length, reverse=True):\n",
    "    print(word, count)"
   ]
  },
  {
   "cell_type": "code",
   "execution_count": 42,
   "metadata": {},
   "outputs": [
    {
     "data": {
      "text/plain": [
       "[('drove', 2), ('girl', 1), ('car', 1), ('the', 4)]"
      ]
     },
     "execution_count": 42,
     "metadata": {},
     "output_type": "execute_result"
    }
   ],
   "source": [
    "sorted(word_counts.items(), key=x0_length, reverse=True)"
   ]
  },
  {
   "cell_type": "code",
   "execution_count": 43,
   "metadata": {},
   "outputs": [
    {
     "data": {
      "text/plain": [
       "[('car', 1), ('the', 4), ('girl', 1), ('drove', 2)]"
      ]
     },
     "execution_count": 43,
     "metadata": {},
     "output_type": "execute_result"
    }
   ],
   "source": [
    "sorted(word_counts.items(), key=x0_length)"
   ]
  },
  {
   "cell_type": "markdown",
   "metadata": {},
   "source": [
    "# Organize your data using appropriate data structures"
   ]
  },
  {
   "cell_type": "markdown",
   "metadata": {},
   "source": [
    "Imagine you have a temperatures of cities using different units: a list of dictionaries may be a good solution"
   ]
  },
  {
   "cell_type": "code",
   "execution_count": 44,
   "metadata": {},
   "outputs": [],
   "source": [
    "temp_records = [ {'city':'Los Angeles', 'temperature': '51', 'unit': 'Fahrenheit'}, \n",
    "                 {'city':'Madrid', 'temperature': '4', 'unit': 'Celsius'}, \n",
    "                 {'city':'New York', 'temperature': '18', 'unit': 'Fahrenheit'}, \n",
    "                 {'city':'New Delhi', 'temperature': '20', 'unit': 'Celsius'} \n",
    "               ]"
   ]
  },
  {
   "cell_type": "code",
   "execution_count": 45,
   "metadata": {},
   "outputs": [
    {
     "name": "stdout",
     "output_type": "stream",
     "text": [
      "The temperature in Los Angeles is 51 Fahrenheit\n",
      "The temperature in Madrid is 4 Celsius\n",
      "The temperature in New York is 18 Fahrenheit\n",
      "The temperature in New Delhi is 20 Celsius\n"
     ]
    }
   ],
   "source": [
    "for r in temp_records :\n",
    "    print(f\"The temperature in {r['city']} is {r['temperature']} {r['unit']}\")"
   ]
  },
  {
   "cell_type": "markdown",
   "metadata": {},
   "source": [
    "Suggestion: Write a program that shows all the temperatures in temp_records in Celsius"
   ]
  },
  {
   "cell_type": "markdown",
   "metadata": {},
   "source": [
    "# Tuples"
   ]
  },
  {
   "cell_type": "code",
   "execution_count": 47,
   "metadata": {
    "scrolled": true
   },
   "outputs": [
    {
     "name": "stdout",
     "output_type": "stream",
     "text": [
      "the 3\n",
      "is 3\n",
      "and 3\n",
      "sun 2\n",
      "yonder 1\n"
     ]
    }
   ],
   "source": [
    "fhand = open('romeo.txt')\n",
    "counts = {}\n",
    "for line in fhand:\n",
    "    words = line.split()\n",
    "    for word in words:\n",
    "        counts[word] = counts.get(word,0) + 1\n",
    "        \n",
    "lst = []\n",
    "for key, val in counts.items():\n",
    "    newtup = (val, key)\n",
    "    lst.append(newtup)\n",
    "    \n",
    "lst = sorted(lst, reverse=True)\n",
    "\n",
    "for val, key in lst[:5]:\n",
    "    print (key,val)"
   ]
  },
  {
   "cell_type": "markdown",
   "metadata": {},
   "source": [
    "### Quick way to sort pairs by second element"
   ]
  },
  {
   "cell_type": "code",
   "execution_count": 49,
   "metadata": {},
   "outputs": [
    {
     "name": "stdout",
     "output_type": "stream",
     "text": [
      "[(22, 'c'), (10, 'a'), (1, 'b')]\n"
     ]
    }
   ],
   "source": [
    "c = {'a' : 10, 'b' : 1, 'c' : 22}\n",
    "c1 = sorted([(v,k) for (k,v) in c.items()]  , reverse=True)\n",
    "print (c1)"
   ]
  },
  {
   "cell_type": "markdown",
   "metadata": {},
   "source": [
    "# Tuples as keys in dictionaries\n",
    "### Dictionary keys must be immutable\n",
    "* Allowed as keys: int, float, string, bool, __tuple__\n",
    "* Not allowed as keys: list, set, dict (but allowed as values)"
   ]
  },
  {
   "cell_type": "code",
   "execution_count": 50,
   "metadata": {},
   "outputs": [
    {
     "name": "stdout",
     "output_type": "stream",
     "text": [
      "{('John Smith', 'email'): 'jsmith@usc.edu', ('John Smith', 'birthday'): 'July 4, 1997', ('John Smith', 'age'): 24, ('John Smith', 'married'): True, ('John Smith', 'wife'): 'Alice Smith', ('Alice Smith', 'email'): 'asmith@ucla.edu', ('Alice Smith', 'programming languages'): ['Python', 'Java', 'C++'], ('Alice Smith', 'address'): ('Los Angeles', '824 Hilgard Avennue'), ('Los Angeles', 'population'): 3898747, ('Los Angeles', 'mayor'): 'Eric Garcetti', ('Python', 'latest version'): '3.10.2', ('Python', 'creator'): 'Guido van Rossum', ('Guido van Rossum', 'twitter'): '@gvanrossum'}\n",
      "\n",
      "John Smith's wife's email: asmith@ucla.edu\n"
     ]
    }
   ],
   "source": [
    "d = {}\n",
    "d[(\"John Smith\", \"email\")] = \"jsmith@usc.edu\"\n",
    "d[(\"John Smith\", \"birthday\")] = \"July 4, 1997\"\n",
    "d[(\"John Smith\", \"age\")] = 24\n",
    "d[(\"John Smith\", \"married\")] = True\n",
    "d[(\"John Smith\", \"wife\")] = \"Alice Smith\"\n",
    "d[(\"Alice Smith\", \"email\")] = \"asmith@ucla.edu\"\n",
    "d[(\"Alice Smith\", \"programming languages\")] = [\"Python\", \"Java\", \"C++\"]\n",
    "d[(\"Alice Smith\", \"address\")] = (\"Los Angeles\", \"824 Hilgard Avennue\")\n",
    "d[(\"Los Angeles\", \"population\")] = 3898747\n",
    "d[(\"Los Angeles\", \"mayor\")] = \"Eric Garcetti\"\n",
    "d[(\"Python\", \"latest version\")] = \"3.10.2\"\n",
    "d[(\"Python\", \"creator\")] = \"Guido van Rossum\"\n",
    "d[(\"Guido van Rossum\", \"twitter\")] = \"@gvanrossum\"\n",
    "\n",
    "print(d)\n",
    "print(\"\\nJohn Smith's wife's email:\", d.get((d.get((\"John Smith\", \"wife\")), \"email\")))"
   ]
  },
  {
   "cell_type": "code",
   "execution_count": null,
   "metadata": {},
   "outputs": [],
   "source": []
  },
  {
   "cell_type": "markdown",
   "metadata": {},
   "source": [
    "## A dictionary with tuple keys can become a powerful web of information!"
   ]
  },
  {
   "cell_type": "code",
   "execution_count": null,
   "metadata": {},
   "outputs": [],
   "source": []
  }
 ],
 "metadata": {
  "anaconda-cloud": {},
  "kernelspec": {
   "display_name": "Python 3 (ipykernel)",
   "language": "python",
   "name": "python3"
  },
  "language_info": {
   "codemirror_mode": {
    "name": "ipython",
    "version": 3
   },
   "file_extension": ".py",
   "mimetype": "text/x-python",
   "name": "python",
   "nbconvert_exporter": "python",
   "pygments_lexer": "ipython3",
   "version": "3.9.7"
  }
 },
 "nbformat": 4,
 "nbformat_minor": 1
}
