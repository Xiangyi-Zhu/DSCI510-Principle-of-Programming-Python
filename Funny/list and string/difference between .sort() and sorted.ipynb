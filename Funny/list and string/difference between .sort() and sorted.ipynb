{
 "cells": [
  {
   "cell_type": "code",
   "execution_count": 1,
   "id": "21249748",
   "metadata": {},
   "outputs": [],
   "source": [
    "stuff = list()"
   ]
  },
  {
   "cell_type": "code",
   "execution_count": 2,
   "id": "a2c1a6e9",
   "metadata": {},
   "outputs": [],
   "source": [
    "stuff.append('python')"
   ]
  },
  {
   "cell_type": "code",
   "execution_count": 3,
   "id": "28affe98",
   "metadata": {},
   "outputs": [],
   "source": [
    "stuff.append('chuck')"
   ]
  },
  {
   "cell_type": "code",
   "execution_count": 4,
   "id": "672e4204",
   "metadata": {},
   "outputs": [
    {
     "name": "stdout",
     "output_type": "stream",
     "text": [
      "['python', 'chuck']\n"
     ]
    }
   ],
   "source": [
    "print(stuff)"
   ]
  },
  {
   "cell_type": "code",
   "execution_count": 5,
   "id": "9d7ee7a8",
   "metadata": {},
   "outputs": [],
   "source": [
    "stuff.sort()"
   ]
  },
  {
   "cell_type": "code",
   "execution_count": 6,
   "id": "35c4c6fd",
   "metadata": {},
   "outputs": [
    {
     "name": "stdout",
     "output_type": "stream",
     "text": [
      "['chuck', 'python']\n"
     ]
    }
   ],
   "source": [
    "print(stuff)"
   ]
  },
  {
   "cell_type": "code",
   "execution_count": 7,
   "id": "1e484820",
   "metadata": {},
   "outputs": [
    {
     "data": {
      "text/plain": [
       "['chuck', 'python']"
      ]
     },
     "execution_count": 7,
     "metadata": {},
     "output_type": "execute_result"
    }
   ],
   "source": [
    "sorted(stuff)"
   ]
  },
  {
   "cell_type": "code",
   "execution_count": 8,
   "id": "9da277dd",
   "metadata": {},
   "outputs": [],
   "source": [
    "a = stuff.sort()"
   ]
  },
  {
   "cell_type": "code",
   "execution_count": 9,
   "id": "a590e865",
   "metadata": {},
   "outputs": [
    {
     "name": "stdout",
     "output_type": "stream",
     "text": [
      "None\n"
     ]
    }
   ],
   "source": [
    "print(a)"
   ]
  },
  {
   "cell_type": "code",
   "execution_count": 10,
   "id": "cfe5b954",
   "metadata": {},
   "outputs": [],
   "source": [
    "b = sorted(stuff)"
   ]
  },
  {
   "cell_type": "code",
   "execution_count": 11,
   "id": "8c6fee06",
   "metadata": {},
   "outputs": [
    {
     "name": "stdout",
     "output_type": "stream",
     "text": [
      "['chuck', 'python']\n"
     ]
    }
   ],
   "source": [
    "print(b)"
   ]
  },
  {
   "cell_type": "code",
   "execution_count": null,
   "id": "3df3f81a",
   "metadata": {},
   "outputs": [],
   "source": []
  }
 ],
 "metadata": {
  "kernelspec": {
   "display_name": "Python 3 (ipykernel)",
   "language": "python",
   "name": "python3"
  },
  "language_info": {
   "codemirror_mode": {
    "name": "ipython",
    "version": 3
   },
   "file_extension": ".py",
   "mimetype": "text/x-python",
   "name": "python",
   "nbconvert_exporter": "python",
   "pygments_lexer": "ipython3",
   "version": "3.9.7"
  }
 },
 "nbformat": 4,
 "nbformat_minor": 5
}
