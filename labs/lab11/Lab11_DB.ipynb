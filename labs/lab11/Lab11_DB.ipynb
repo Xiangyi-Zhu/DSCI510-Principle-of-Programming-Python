{
 "cells": [
  {
   "cell_type": "markdown",
   "metadata": {
    "id": "7dJcGMea_6m0"
   },
   "source": [
    "Lab 11\n",
    "-----------------------------------------\n",
    "Hey Everyone, \n",
    "\n",
    "Guidelines for the Lab:\n",
    "- Download the lab materials from D2L. You're supposed to complete it by the deadline, Sunday (10th April) 4pm PDT.  \n",
    "\n",
    "- You have to complete the assignments individually. If you are having trouble completing the assignment do let the TA's/CP's or Graders know.\n",
    "\n",
    "- Please don't copy code (either partially/fully) from your classmates. Plagiarism of any form will result in a 0 and you will be reported to SJACS (https://sjacs.usc.edu/students/academic-integrity/).\n",
    "\n",
    "- You have to fill the code in this notebook and upload it for submission. While doing this, make sure all supporting files that you download from D2L are in the same directory as this notebook.  \n",
    "\n",
    "- Please don't submit code in text files and .py files. Also no mailing code to the TA's or Graders. There were exemptions provided to students in earlier labs due to D2L issues, environment setup and course registrations but these exemptions will not be carried over to future labs.\n",
    "\n",
    "- File Naming Convention : Lab11_FIRSTNAME_LASTNAME.ipynb (Failure to comply to this policy may incur penalties ).\n",
    "\n",
    "- Don't change existing methods (if any, unless otherwise mentioned in the instructions)\n",
    "\n",
    "- You are encouraged to look up resources online like python docs and stackoverflow. But, you are encouraged to look up the topics and not the questions themselves.  \n",
    "\n",
    "- Your last submission before the deadline will be counted towards your grade. You can submit any number of times before the deadline.\n",
    "\n",
    "- Scores are capped at 10 points including the Bonus problem. For Example : Even if you get a score of 12/10, your score is capped at 10.\n",
    "\n",
    "- Your output should be as mentioned in the question (Don't output/print extra items which are not asked in the question as it makes it difficult for the graders to grade). (Failure to comply to this policy may incur penalties)\n",
    "\n",
    "- You need to take input from file/console only if it is mentioned in the question. If not we need just the logic/implementation of your function.\n",
    "\n",
    "- Please Don't ask for changes to the Grading Rubrics. Some questions have all/nothing rubric and missing one test case/ edge case may result in a 0 score. So you are encouraged to write your own test cases and evaluate your code as and where necessary. The TA's or Graders will not be providing you with the test cases.\n",
    "\n",
    "----------------------------------------------\n",
    "- To make coding easier, a lot of the boilerplate code has been given as a template to show you first hand how OOPs constructs are designed. Please use them as references.\n",
    "\n",
    "- Don't change the existing boilerplate code. The reason the boilerplate code has been given, is to make it easy for you to see the bigger picture and get you up to speed faster. There have been multiple comments added, to make it easier for students to logically comprehend the sequence of steps."
   ]
  },
  {
   "cell_type": "markdown",
   "metadata": {},
   "source": [
    "Notes:\n",
    "\n",
    "Today, we are going to write some queries in order to create and manipulate tables.  \n",
    "\n",
    "Info about sqlite python module: https://docs.python.org/3/library/sqlite3.html  \n",
    "\n",
    "For executing queries, this is the lifecycle that you'll follow:  \n",
    "1. import the library `sqlite3`  \n",
    "2. Create a connection to the database using `conn = sqlite3.connect('your db name')`  \n",
    "3. Create a cursor from the connection object we just created  ` cur = conn.cursor()`\n",
    "4. Execute queries to the database using the cursor object and the execute function. Example : `cur.execute('SELECT * from Lab11')` .Use `cur.fetchall()` : fetches all (or all remaining) rows of a query result set and returns a list of tuples. If no more rows are available, it returns an empty list.\n",
    "\n",
    "5. Lastly, make sure to commit and close the connection. (Likely to face problems if you forget this. In the worst case, try to restart the kernel.) \n",
    "\n",
    "\n",
    "```\n",
    "Sample example to create table :\n",
    "\n",
    "cur.execute('CREATE TABLE test \\\n",
    "        (a1 INTEGER, \\\n",
    "        b1 TEXT \\\n",
    "        )')\n",
    "\n",
    "Where a1, b1 are columns in the table test.\n",
    "```\n",
    "\n",
    "You can also try to run this Lab on Google Collab : https://colab.research.google.com/"
   ]
  },
  {
   "cell_type": "markdown",
   "metadata": {
    "id": "gyLxMqux_6m3"
   },
   "source": [
    "Q1. (4 points)\n",
    "---\n",
    "\n",
    "You are asked to create a database (named: 'DSCI510.db'). In this database, create a table named 'Lab11'.Also insert atleast 10 rows of data and fetch all rows and return that list data. \n",
    "\n",
    "More Information regarding the Database creation is as below:  \n",
    "\n",
    "DB name : 'DSCI510.db'  \n",
    "Table name : 'Lab11'  \n",
    "    - columns in the table : (id(integer), student_name(text), age(integer), major(text) , hometown(text) , address(text) )  \n",
    "\n",
    "Some Example data: \n",
    "\n",
    "Row 1  : (1,'Albert', 20, 'Computer Science' ,'San Diego' , '1200, W 100 St, LA')  \n",
    "Row 2 : (2,'Lisa', 25, 'Health Sciences' , 'Los Angeles' , '1201, W 100 St, LA' )  \n",
    "\n",
    "etc..\n",
    "\n",
    "Note: All the data is dummy data, so feel free to create your own data (at least 10 rows)\n",
    "Refer Notes above for the steps.\n",
    "\n",
    "---\n",
    "\n",
    "\n",
    "\n",
    "---\n",
    "\n",
    "Grading Rubric: \n",
    "\n",
    "1) 2.5 marks for creating the dummy data(10 rows). Each row carries 0.25 marks\n",
    "\n",
    "2) 1.5 marks for printing the data.( -0.25 for each row that doesn't match with the data inserted into the table) \n"
   ]
  },
  {
   "cell_type": "code",
   "execution_count": 1,
   "metadata": {
    "id": "o888ilyK_6m3"
   },
   "outputs": [
    {
     "name": "stdout",
     "output_type": "stream",
     "text": [
      "[(1, 'Albert', 23, 'Computer Science', 'San Diego', '1200, W 100 St, LA'), (2, 'Lisa', 25, 'Health Sciences', 'Los Angeles', '1201, W 100 St, LA'), (3, 'Lily', 25, 'Data Sciences', 'Los Angeles', '1202, W 100 St, LA'), (4, 'Li', 23, 'Data Sciences', 'Los Angeles', '1203, W 100 St, LA'), (5, 'Lilei', 23, 'Data Sciences', 'Los Angeles', '1204, W 100 St, LA'), (6, 'Meixi', 25, 'Data Sciences', 'Los Angeles', '1205, W 100 St, LA'), (7, 'Meili', 23, 'Data Sciences', 'Los Angeles', '1206, W 100 St, LA'), (8, 'Daming', 23, 'Data Sciences', 'Los Angeles', '1207, W 100 St, LA'), (9, 'Peggy', 23, 'Data Sciences', 'Los Angeles', '1208, W 100 St, LA'), (10, 'Amber', 23, 'Data Sciences', 'Los Angeles', '1209, W 100 St, LA')]\n"
     ]
    }
   ],
   "source": [
    "import sqlite3\n",
    "\n",
    "def sample_data():\n",
    "    conn = sqlite3.connect('DSCI510.db')\n",
    "    cur = conn.cursor()\n",
    "    cur.execute('DROP TABLE IF EXISTS Lab11')\n",
    "    cur.execute('''CREATE TABLE Lab11 (\n",
    "    id INTEGER PRIMARY KEY AUTOINCREMENT NOT NULL UNIQUE, \n",
    "    student_name TEXT,\n",
    "    age INTEGER,\n",
    "    major TEXT,\n",
    "    hometown TEXT,\n",
    "    address TEXT)''')\n",
    "    cur.execute('''INSERT INTO Lab11 (student_name, age, major, hometown, address)\n",
    "    VALUES ('Albert', 23, 'Computer Science', 'San Diego', '1200, W 100 St, LA')''')\n",
    "    cur.execute('''INSERT INTO Lab11 (student_name, age, major, hometown, address)\n",
    "    VALUES ('Lisa', 25, 'Health Sciences', 'Los Angeles', '1201, W 100 St, LA')''')\n",
    "    cur.execute('''INSERT INTO Lab11 (student_name, age, major, hometown, address)\n",
    "    VALUES ('Lily', 25, 'Data Sciences', 'Los Angeles', '1202, W 100 St, LA')''')\n",
    "    cur.execute('''INSERT INTO Lab11 (student_name, age, major, hometown, address)\n",
    "    VALUES ('Li', 23, 'Data Sciences', 'Los Angeles', '1203, W 100 St, LA')''')\n",
    "    cur.execute('''INSERT INTO Lab11 (student_name, age, major, hometown, address)\n",
    "    VALUES ('Lilei', 23, 'Data Sciences', 'Los Angeles', '1204, W 100 St, LA')''')\n",
    "    cur.execute('''INSERT INTO Lab11 (student_name, age, major, hometown, address)\n",
    "    VALUES ('Meixi', 25, 'Data Sciences', 'Los Angeles', '1205, W 100 St, LA')''')\n",
    "    cur.execute('''INSERT INTO Lab11 (student_name, age, major, hometown, address)\n",
    "    VALUES ('Meili', 23, 'Data Sciences', 'Los Angeles', '1206, W 100 St, LA')''')\n",
    "    cur.execute('''INSERT INTO Lab11 (student_name, age, major, hometown, address)\n",
    "    VALUES ('Daming', 23, 'Data Sciences', 'Los Angeles', '1207, W 100 St, LA')''')\n",
    "    cur.execute('''INSERT INTO Lab11 (student_name, age, major, hometown, address)\n",
    "    VALUES ('Peggy', 23, 'Data Sciences', 'Los Angeles', '1208, W 100 St, LA')''')\n",
    "    cur.execute('''INSERT INTO Lab11 (student_name, age, major, hometown, address)\n",
    "    VALUES ('Amber', 23, 'Data Sciences', 'Los Angeles', '1209, W 100 St, LA')''')\n",
    "    conn.commit()\n",
    "    #a = list(cur.execute('''SELECT * FROM Lab11;'''))\n",
    "    #return a\n",
    "    cur.execute('''SELECT * FROM Lab11;''')\n",
    "    rows = cur.fetchall()\n",
    "    return (list(rows))\n",
    "    cur.close() \n",
    "    conn.close()   \n",
    "print(sample_data())"
   ]
  },
  {
   "cell_type": "markdown",
   "metadata": {
    "id": "GbGFXo-s_6m4"
   },
   "source": [
    "Q2. (2 points)\n",
    "---\n",
    "\n",
    "In this Question we'll run some data analysis query on the above table we created.\n",
    "\n",
    "\n",
    "```\n",
    "Print the average age of all the students in the class. (Average is sum of all the ages of students divided by the total number of students in class = sum(ages)/N.\n",
    "\n",
    "```\n",
    "\n",
    "Note : We will evaluate you on the queries. So make sure your queries are correct.\n",
    "\n",
    "Tip : Use the avg function. \n",
    "\n",
    "Always try adding more data in the table and test your queries, to be sure.\n",
    "\n",
    "---\n",
    "\n",
    "Grading Rubric: 1 mark for the correct query and 1 mark for the complete working code."
   ]
  },
  {
   "cell_type": "code",
   "execution_count": 2,
   "metadata": {
    "id": "4i3dpA_r_6m5"
   },
   "outputs": [
    {
     "name": "stdout",
     "output_type": "stream",
     "text": [
      "23.6\n",
      "\n"
     ]
    }
   ],
   "source": [
    "conn = sqlite3.connect('DSCI510.db')\n",
    "cur = conn.cursor()\n",
    "#b = list(cur.execute('''SELECT avg(age) FROM Lab11'''))\n",
    "#print(b[0])\n",
    "#cur.execute('''SELECT avg(age) FROM Lab11''')\n",
    "#print(cur.fetchall()[0][0])\n",
    "cur.execute('''SELECT avg(age) FROM Lab11''')\n",
    "b = cur.fetchone()\n",
    "print(b[0])\n",
    "print()\n",
    "cur.close() \n",
    "conn.close()"
   ]
  },
  {
   "cell_type": "markdown",
   "metadata": {
    "id": "ZONybQGS_6m6"
   },
   "source": [
    "Q3 - Queries on Titanic Data set (4 points).\n",
    "---\n",
    "Implement the function which creates the sql table for the titanic_dataset. You should create this table in the same database that you created in Q1.(DSCI510.db, already provided for you.)    \n",
    "\n",
    "You are required to use the `csv_dataset` class that we used in the older labs. We already have provided you with the code, which contains `csv_dataset` class implementation. You should create `csv_dataset` object with `titanic_dataset.csv` file. (code already provided below for you.)\n",
    "\n",
    "```\n",
    "Table name - titanic_dataset  \n",
    "Column names should be the same as the first row of the dataset and the types should be from integer, real or  text as required. \n",
    "PassengerId should be the primary key of the table.\n",
    "```\n",
    "In the data set, for column survived, 1 means the passenger survived, and 0 means the passenger didn't survive. All the data in the Fare column are in the same units.\n",
    "\n",
    "```\n",
    "Insert the whole dataset into a sql table and Get the information (via sql query) of the person who has paid   the highest Fare in the titanic data set. Print the whole row itself.\n",
    "```\n",
    "\n",
    "---\n",
    "\n",
    "Extra Bonus (Not graded) : Try to see if there's any correlation between \"sex or age\" of the passenger aboard and survival rate on the titanic. Try to think of how you can model it/ what techniques can you use.\n",
    "\n",
    "---"
   ]
  },
  {
   "cell_type": "code",
   "execution_count": 3,
   "metadata": {},
   "outputs": [],
   "source": [
    "import csv\n",
    "\n",
    "class dataset:\n",
    "    def __init__(self):\n",
    "        self.vals = list()\n",
    "    def __getitem__(self, ind):\n",
    "        return self.vals[ind]\n",
    "    def __len__(self):\n",
    "        return len(self.vals)\n",
    "    def append_data(self, val):\n",
    "        self.vals.append(val)\n",
    "    def load_data(self, list_of_datapoints):\n",
    "        for val in list_of_datapoints:\n",
    "            self.append_data(val)\n",
    "\n",
    "\n",
    "class csv_dataset(dataset):\n",
    "    def __init__(self, fname, splitter):\n",
    "        super(csv_dataset, self).__init__()\n",
    "        with open(fname) as self.file:\n",
    "            self.reader = csv.reader(self.file, delimiter=splitter)\n",
    "            for row in self.reader:\n",
    "                self.append_data(tuple(row))\n",
    "\n"
   ]
  },
  {
   "cell_type": "code",
   "execution_count": 4,
   "metadata": {
    "scrolled": true
   },
   "outputs": [
    {
     "name": "stdout",
     "output_type": "stream",
     "text": [
      "[(259, 1, 1, 'Ward, Miss. Anna', 'female', 35, 'PC 17755', 512.3292), (680, 1, 1, 'Cardeza, Mr. Thomas Drake Martinez', 'male', 36, 'PC 17755', 512.3292), (738, 1, 1, 'Lesurer, Mr. Gustave J', 'male', 35, 'PC 17755', 512.3292)]\n"
     ]
    }
   ],
   "source": [
    "##website: How to import a CSV file into a sqlite3 database table using Python?\n",
    "##https://thewebdev.info/2021/10/23/how-to-import-a-csv-file-into-a-sqlite3-database-table-using-python\n",
    "##/#:~:text=Next%20we%20call%20cur.executemany%20with%20the%20insert%20SQL,we%20can%20use%20the%20csv%20and%20sqlite3%20modules.\n",
    "def get_titanic_dataset():\n",
    "    conn = sqlite3.connect('DSCI510.db')\n",
    "    cur = conn.cursor()\n",
    "    dataset = csv_dataset('titanic_data.csv', ',')\n",
    "    cur.execute('DROP TABLE IF EXISTS titanic_dataset')\n",
    "    cur.execute(f'''CREATE TABLE titanic_dataset (\n",
    "    {dataset.vals[0][0]} INTEGER, \n",
    "    {dataset.vals[0][1]} INTEGER,\n",
    "    {dataset.vals[0][2]} INTEGER,\n",
    "    {dataset.vals[0][3]} TEXT,\n",
    "    {dataset.vals[0][4]} TEXT,\n",
    "    {dataset.vals[0][5]} INTEGER,\n",
    "    {dataset.vals[0][6]} TEXT,\n",
    "    {dataset.vals[0][7]} REAL)''')\n",
    "    #iterate over the dataset and insert records into the table\n",
    "    for i in range(1, dataset.__len__()):\n",
    "        cur.execute('''INSERT INTO titanic_dataset VALUES (?,?,?,?,?,?,?,?);''', list(dataset.vals[i]))    \n",
    "    conn.commit()\n",
    "    #query to fetch from titanic_dataset and use: order by Fare desc.\n",
    "    #fetch only the top record (since we want the top fare)\n",
    "    #a = list(cur.execute('''SELECT * FROM titanic_dataset ORDER BY Fare DESC LIMIT 1'''))\n",
    "    #return a\n",
    "    cur.execute(\"Select Max(Fare) from titanic_dataset\")\n",
    "    max_value = cur.fetchone()[0]\n",
    "    return list(cur.execute(f'''SELECT * FROM titanic_dataset WHERE Fare = {max_value}'''))\n",
    "    #close connections.\n",
    "    cur.close()\n",
    "    conn.close()\n",
    "    \n",
    "print(get_titanic_dataset())"
   ]
  },
  {
   "cell_type": "markdown",
   "metadata": {},
   "source": [
    "## Bonus Questions"
   ]
  },
  {
   "cell_type": "markdown",
   "metadata": {},
   "source": [
    "Q4) Bonus question (1 mark).\n",
    "---\n",
    "```\n",
    "1. Find the number of females who survived the titanic from the above data set.\n",
    "\n",
    "2. Find the number of males who survived the titanic from the above data set.\n",
    "```\n",
    "Write your queries below:\n",
    "\n",
    "Rubric : 0.5 marks for each query, (if your final asnwer is correct), 0 otherwise."
   ]
  },
  {
   "cell_type": "code",
   "execution_count": 5,
   "metadata": {},
   "outputs": [
    {
     "name": "stdout",
     "output_type": "stream",
     "text": [
      "233\n",
      "109\n"
     ]
    }
   ],
   "source": [
    "conn = sqlite3.connect('DSCI510.db')\n",
    "cur = conn.cursor()\n",
    "cur.execute('''SELECT count(Sex) FROM titanic_dataset WHERE Sex = 'female' AND Survived = 1 ''')\n",
    "a = list(cur.fetchone())[0]\n",
    "print(a)\n",
    "cur.execute('''SELECT count(Sex) FROM titanic_dataset WHERE Sex = 'male' AND Survived = 1 ''')\n",
    "b = list(cur.fetchone())[0]\n",
    "print(b)"
   ]
  },
  {
   "cell_type": "markdown",
   "metadata": {},
   "source": [
    "Q5) Bonus question (2 marks).\n",
    "---\n",
    "\n",
    "Write any 2 advantages of Databases over File Systems.\n",
    "\n",
    "Rubric : 1 mark for each correct point."
   ]
  },
  {
   "cell_type": "markdown",
   "metadata": {
    "id": "L-fk1YYv_6m6"
   },
   "source": [
    "Ans :"
   ]
  },
  {
   "cell_type": "markdown",
   "metadata": {},
   "source": [
    "## Extra Bonus, Advanced (1 Mark) :\n",
    "\n",
    "This is for students who are already familiar with the basics of ML/DataScience. So if you are unable to attempt this, it's totally fine. \n",
    "\n",
    "In the titanic data set, we can see that for some passengers the age data is missing. When the number of items with missing values is significant, it's not a good practise to discard them. Think about what types of techniques are usually used for dealing with missing values. What among those techniques would you apply here.\n",
    "\n",
    "Hint : Think about Data Imputation."
   ]
  },
  {
   "cell_type": "code",
   "execution_count": null,
   "metadata": {},
   "outputs": [],
   "source": []
  }
 ],
 "metadata": {
  "colab": {
   "name": "Lab7Rubric.ipynb",
   "provenance": []
  },
  "kernelspec": {
   "display_name": "Python 3 (ipykernel)",
   "language": "python",
   "name": "python3"
  },
  "language_info": {
   "codemirror_mode": {
    "name": "ipython",
    "version": 3
   },
   "file_extension": ".py",
   "mimetype": "text/x-python",
   "name": "python",
   "nbconvert_exporter": "python",
   "pygments_lexer": "ipython3",
   "version": "3.9.7"
  }
 },
 "nbformat": 4,
 "nbformat_minor": 1
}
